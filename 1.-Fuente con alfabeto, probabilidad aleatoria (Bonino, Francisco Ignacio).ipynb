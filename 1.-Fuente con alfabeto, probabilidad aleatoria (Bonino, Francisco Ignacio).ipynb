{
  "nbformat": 4,
  "nbformat_minor": 0,
  "metadata": {
    "colab": {
      "name": "BONINO_FRANCISCO_IGNACIO - MODELADO DE FUENTE, TRANSMISOR Y CANAL.ipynb",
      "provenance": [],
      "collapsed_sections": [],
      "toc_visible": true
    },
    "kernelspec": {
      "name": "python3",
      "display_name": "Python 3"
    }
  },
  "cells": [
    {
      "cell_type": "markdown",
      "metadata": {
        "id": "fPqlrdfzUv4M"
      },
      "source": [
        "#***Modelado de fuente, transmisor y canal***\n",
        "\n",
        "**Consignas:**\n",
        "\n",
        "a.1) Implementar en software una fuente de mensajes de cardinalidad 2 equiprobable.\n",
        "\n",
        "a.2) Implementar en software una fuente de mensajes de cardinalidad 4 equiprobable.\n",
        "\n",
        "a.3) Extender la fuente de mensaje a una de probabilidad parametrizable (no necesariamente equiprobable)\n",
        "\n",
        "b) *Modelado de canal de comunicación \"sin memoria\":* Argumente por qué es posible escribir la siguiente ecuación:\n",
        "$P_{Y_1,Y_2 | X_1,X_2}(y_1,y_2 | x_1,x_2) = \\prod_{i=0}^2 P_{Y_i | X_i}(y_i|x_i)$\n",
        "\n",
        "c) Implementar el modelo del canal del ejemplo 2.3.\n",
        "\n",
        "d.1) Modelar el transmisor para C = {+1, -1,+3, -3}. El mensaje de entrada al transmisor es H = {1, 2, 3, 4}.\n",
        "\n",
        "d.2) Modelar el transmisor para C = {(1,1),(1,-1),(-1,-1),(-1,1)}. El mensaje de entrada al transmisor es H = {1, 2, 3, 4}.\n",
        "\n",
        "#***Respuestas:***\n",
        "\n",
        "Ejercicio a.1):"
      ]
    },
    {
      "cell_type": "code",
      "metadata": {
        "id": "sYBybl-4WytH",
        "colab": {
          "base_uri": "https://localhost:8080/",
          "height": 975
        },
        "outputId": "d0f2de27-e5bd-4506-8165-c842d22ddaa9"
      },
      "source": [
        "'''\n",
        "Fuente emisora de mensajes (1).\n",
        "\n",
        "H = {'A','B','C','D','E','F','G','H','I','J','K','L','M','N','Ñ','O','P','Q','R','S','T','U','V','W','X','Y','Z'}\n",
        "\n",
        "Probabilidad: equiprobable.\n",
        "'''\n",
        "\n",
        "import random\n",
        "import matplotlib.pyplot as plt\n",
        "\n",
        "#Generación de mensajes:\n",
        "cantidadMuestras = 10000\n",
        "\n",
        "letters = ['A','B','C','D','E','F','G','H','I','J','K','L','M','N','Ñ','O','P','Q','R','S','T','U','V','W','X','Y','Z']\n",
        "\n",
        "muestras = random.choices(letters, weights = None, k = cantidadMuestras)\n",
        "\n",
        "for letter in letters:\n",
        "  print(\"Cantidad de \" + letter + \":\" + str(muestras.count(letter)))\n",
        "\n",
        "#Histograma:\n",
        "plt.xlabel(\"Mensaje enviado\")\n",
        "plt.ylabel(\"Frecuencia del mensaje\")\n",
        "\n",
        "plt.title(\"Fuente, H = {ALFABETO}, distribución equiprobable\")\n",
        "\n",
        "plt.hist(muestras, bins = 27)"
      ],
      "execution_count": 15,
      "outputs": [
        {
          "output_type": "stream",
          "text": [
            "Cantidad de A:358\n",
            "Cantidad de B:396\n",
            "Cantidad de C:380\n",
            "Cantidad de D:366\n",
            "Cantidad de E:359\n",
            "Cantidad de F:384\n",
            "Cantidad de G:375\n",
            "Cantidad de H:360\n",
            "Cantidad de I:373\n",
            "Cantidad de J:370\n",
            "Cantidad de K:373\n",
            "Cantidad de L:403\n",
            "Cantidad de M:391\n",
            "Cantidad de N:369\n",
            "Cantidad de Ñ:400\n",
            "Cantidad de O:357\n",
            "Cantidad de P:365\n",
            "Cantidad de Q:338\n",
            "Cantidad de R:357\n",
            "Cantidad de S:374\n",
            "Cantidad de T:390\n",
            "Cantidad de U:367\n",
            "Cantidad de V:348\n",
            "Cantidad de W:365\n",
            "Cantidad de X:368\n",
            "Cantidad de Y:373\n",
            "Cantidad de Z:341\n"
          ],
          "name": "stdout"
        },
        {
          "output_type": "execute_result",
          "data": {
            "text/plain": [
              "(array([360., 341., 368., 396., 365., 359., 370., 384., 365., 403., 374.,\n",
              "        367., 373., 373., 348., 373., 366., 357., 390., 391., 338., 358.,\n",
              "        375., 400., 357., 380., 369.]),\n",
              " array([ 0.        ,  0.96296296,  1.92592593,  2.88888889,  3.85185185,\n",
              "         4.81481481,  5.77777778,  6.74074074,  7.7037037 ,  8.66666667,\n",
              "         9.62962963, 10.59259259, 11.55555556, 12.51851852, 13.48148148,\n",
              "        14.44444444, 15.40740741, 16.37037037, 17.33333333, 18.2962963 ,\n",
              "        19.25925926, 20.22222222, 21.18518519, 22.14814815, 23.11111111,\n",
              "        24.07407407, 25.03703704, 26.        ]),\n",
              " <a list of 27 Patch objects>)"
            ]
          },
          "metadata": {
            "tags": []
          },
          "execution_count": 15
        },
        {
          "output_type": "display_data",
          "data": {
            "image/png": "[encoded data removed]",
            "text/plain": [
              "<Figure size 432x288 with 1 Axes>"
            ]
          },
          "metadata": {
            "tags": [],
            "needs_background": "light"
          }
        }
      ]
    },
    {
      "cell_type": "markdown",
      "metadata": {
        "id": "ZeSiwQjcqx4t"
      },
      "source": [
        "Ejercicio a.2):\n",
        "\n"
      ]
    },
    {
      "cell_type": "code",
      "metadata": {
        "id": "Y9fwGnWOrSoI",
        "colab": {
          "base_uri": "https://localhost:8080/",
          "height": 368
        },
        "outputId": "1716a068-b0c4-4d75-ac54-1addcb8b64e3"
      },
      "source": [
        "'''\n",
        "Fuente emisora de mensajes (2).\n",
        "\n",
        "H = {0,1,2,3}\n",
        "\n",
        "Probabilidad: equiprobable.\n",
        "'''\n",
        "\n",
        "import random\n",
        "import matplotlib.pyplot as plt\n",
        "\n",
        "#Generación de mensajes:\n",
        "cantidadMuestras = 1000\n",
        "\n",
        "cantidad0,cantidad1,cantidad2,cantidad3 = (0,0,0,0)\n",
        "\n",
        "muestras = []\n",
        "\n",
        "muestras = random.choices([0,1,2,3], weights = None, k = cantidadMuestras)\n",
        "\n",
        "cantidad0 = muestras.count(0)\n",
        "cantidad1 = muestras.count(1)\n",
        "cantidad2 = muestras.count(2)\n",
        "cantidad3 = muestras.count(3)\n",
        "\n",
        "#Histograma:\n",
        "plt.xlabel(\"Mensaje enviado\")\n",
        "plt.ylabel(\"Frecuencia del mensaje\")\n",
        "\n",
        "plt.title(\"Fuente, H = {0,1,2,3}, distribución equiprobable\")\n",
        "\n",
        "plt.hist(muestras, bins = 10)\n",
        "\n",
        "print(\"Cantidad de ceros: \" + str(cantidad0) + \"\\n\" + \"Cantidad de unos: \" + str(cantidad1)\n",
        "      + \"\\n\" + \"Cantidad de dos: \" + str(cantidad2) + \"\\n\" + \"Cantidad de tres: \" + str(cantidad3))"
      ],
      "execution_count": null,
      "outputs": [
        {
          "output_type": "stream",
          "text": [
            "Cantidad de ceros: 264\n",
            "Cantidad de unos: 244\n",
            "Cantidad de dos: 233\n",
            "Cantidad de tres: 259\n"
          ],
          "name": "stdout"
        },
        {
          "output_type": "display_data",
          "data": {
            "image/png": "[encoded data removed]",
            "text/plain": [
              "<Figure size 432x288 with 1 Axes>"
            ]
          },
          "metadata": {
            "tags": []
          }
        }
      ]
    },
    {
      "cell_type": "markdown",
      "metadata": {
        "id": "q1XTGpiA1CWj"
      },
      "source": [
        "Ejercicio a.3):"
      ]
    },
    {
      "cell_type": "code",
      "metadata": {
        "id": "UQRQr3GC1Ew4",
        "colab": {
          "base_uri": "https://localhost:8080/",
          "height": 368
        },
        "outputId": "4bcd4c22-2b16-4085-f4c6-39f7c44875c6"
      },
      "source": [
        "'''\n",
        "H = {0,1,2,3}\n",
        "\n",
        "Probabilidad: P(0) = 0.1\n",
        "              P(1) = 0.2\n",
        "              P(2) = 0.4\n",
        "              P(3) = 0.3\n",
        "'''\n",
        "\n",
        "import random\n",
        "import matplotlib.pyplot as plt\n",
        "\n",
        "#Generación de mensajes:\n",
        "cantidadMuestras = 1000\n",
        "\n",
        "cantidad0,cantidad1,cantidad2,cantidad3 = (0,0,0,0)\n",
        "\n",
        "muestras = random.choices([0,1,2,3], weights = [0.1,0.2,0.4,0.3], k = cantidadMuestras)\n",
        "\n",
        "cantidad0 = muestras.count(0)\n",
        "cantidad1 = muestras.count(1)\n",
        "cantidad2 = muestras.count(2)\n",
        "cantidad3 = muestras.count(3)\n",
        "\n",
        "#Histograma:\n",
        "plt.xlabel(\"Mensaje enviado\")\n",
        "plt.ylabel(\"Frecuencia del mensaje\")\n",
        "\n",
        "plt.title(\"Fuente, H = {0,1,2,3}, distribución no equiprobable\")\n",
        "\n",
        "plt.hist(muestras, bins = 10)\n",
        "\n",
        "print(\"Cantidad de ceros: \" + str(cantidad0) + \"\\n\" + \"Cantidad de unos: \" + str(cantidad1)\n",
        "      + \"\\n\" + \"Cantidad de dos: \" + str(cantidad2) + \"\\n\" + \"Cantidad de tres: \" + str(cantidad3))"
      ],
      "execution_count": null,
      "outputs": [
        {
          "output_type": "stream",
          "text": [
            "Cantidad de ceros: 110\n",
            "Cantidad de unos: 199\n",
            "Cantidad de dos: 389\n",
            "Cantidad de tres: 302\n"
          ],
          "name": "stdout"
        },
        {
          "output_type": "display_data",
          "data": {
            "image/png": "[encoded data removed]",
            "text/plain": [
              "<Figure size 432x288 with 1 Axes>"
            ]
          },
          "metadata": {
            "tags": []
          }
        }
      ]
    },
    {
      "cell_type": "markdown",
      "metadata": {
        "id": "8kCwYEKCg0uk"
      },
      "source": [
        "Ejercicio b):\n",
        "\n",
        "Basándonos en la teoría de la probabilidad y la estadística, el cálculo de la probabilidad condicional se calcula de la forma:\n",
        "    \n",
        "$P(A|B) = \\frac{P(A \\bigcap B)}{P(B)}$\n",
        "    \n",
        "Si los eventos A y B son independientes entre sí, tenemos:\n",
        "    \n",
        "$P(A \\bigcap B) = P(A)P(B)$\n",
        "    \n",
        "Esta expresión puede generalizarse para la intersección de *n* sucesos con la denominada *regla de la cadena de la probabilidad condicional*.\\\n",
        "En este caso, como tenemos que los mensajes son independientes entre sí, podemos reescribir la ecuación de probabilidad condicional para dos eventos de la forma en la que se muestra en la consigna del ejercicio, resultando así en el producto de las probabilidades condicionales de cada par.\n",
        "\n",
        "Ejercicio c):"
      ]
    },
    {
      "cell_type": "code",
      "metadata": {
        "id": "5uYs2WHhl2X3",
        "colab": {
          "base_uri": "https://localhost:8080/",
          "height": 368
        },
        "outputId": "b61b226c-d354-4c09-d494-469aa3124f72"
      },
      "source": [
        "'''\n",
        "Implementación del canal del ejercicio 2.3\n",
        "\n",
        "H = {0,1,2,3}\n",
        "\n",
        "Probabilidad: P(0) = 0.1 \n",
        "              P(1) = 0.2\n",
        "              P(2) = 0.5\n",
        "              P(3) = 0.2\n",
        "\n",
        "Z = AWGN (Additive White Gaussian Noise)\n",
        "\n",
        "Y = C + Z\n",
        "'''\n",
        "\n",
        "import random\n",
        "import numpy as np\n",
        "import matplotlib.pyplot as plt\n",
        "\n",
        "#Generación de mensajes:\n",
        "cantidadMuestras = 1000\n",
        "\n",
        "cantidad0,cantidad1,cantidad2,cantidad3 = (0,0,0,0)\n",
        "\n",
        "muestras = random.choices([0,1,2,3],weights = [0.1,0.2,0.5,0.2], k = cantidadMuestras)\n",
        "\n",
        "cantidad0 = muestras.count(0)\n",
        "cantidad1 = muestras.count(1)\n",
        "cantidad2 = muestras.count(2)\n",
        "cantidad3 = muestras.count(3)\n",
        "\n",
        "#Generación de AWGN:\n",
        "Z = np.random.normal(0,0.1,cantidadMuestras)\n",
        "\n",
        "#Adición de la señal y el ruido:\n",
        "Y = muestras + Z\n",
        "\n",
        "#Histograma:\n",
        "plt.xlabel(\"Mensaje enviado\")\n",
        "plt.ylabel(\"Frecuencia del mensaje\")\n",
        "\n",
        "plt.title(\"Fuente, H = {0,1,2,3}, distribución no equiprobable, adición de AWGN\")\n",
        "\n",
        "plt.hist(Y, bins = 15)\n",
        "\n",
        "print(\"Cantidad de ceros: \" + str(cantidad0) + \"\\n\" + \"Cantidad de unos: \" + str(cantidad1)\n",
        "      + \"\\n\" + \"Cantidad de dos: \" + str(cantidad2) + \"\\n\" + \"Cantidad de tres: \" + str(cantidad3))"
      ],
      "execution_count": null,
      "outputs": [
        {
          "output_type": "stream",
          "text": [
            "Cantidad de ceros: 100\n",
            "Cantidad de unos: 193\n",
            "Cantidad de dos: 508\n",
            "Cantidad de tres: 199\n"
          ],
          "name": "stdout"
        },
        {
          "output_type": "display_data",
          "data": {
            "image/png": "[encoded data removed]",
            "text/plain": [
              "<Figure size 432x288 with 1 Axes>"
            ]
          },
          "metadata": {
            "tags": []
          }
        }
      ]
    },
    {
      "cell_type": "markdown",
      "metadata": {
        "id": "jcyILUkRpjMt"
      },
      "source": [
        "Ejercicio d.1):"
      ]
    },
    {
      "cell_type": "code",
      "metadata": {
        "id": "oHiVZHyhpkya",
        "colab": {
          "base_uri": "https://localhost:8080/",
          "height": 368
        },
        "outputId": "24c0d7d1-4d26-4c6a-b51e-bbfec4990b50"
      },
      "source": [
        "'''\n",
        "H = {1,2,3,4}\n",
        "\n",
        "Probabilidad: equiprobable.\n",
        "\n",
        "C = {1,-1,3,-3}\n",
        "'''\n",
        "\n",
        "import random\n",
        "import matplotlib.pyplot as plt\n",
        "\n",
        "#Generación de mensajes:\n",
        "cantidadMuestras = 1000\n",
        "\n",
        "cantidad1,cantidad2,cantidad3,cantidad4 = (0,0,0,0)\n",
        "\n",
        "muestras = []\n",
        "\n",
        "mapeo = {1:1,2:-1,3:3,4:-3}\n",
        "\n",
        "for i in range(cantidadMuestras):\n",
        "    muestras.append(mapeo.get(random.randint(1,4)))\n",
        "\n",
        "cantidad1 = muestras.count(1)\n",
        "cantidad2 = muestras.count(-1)\n",
        "cantidad3 = muestras.count(3)\n",
        "cantidad4 = muestras.count(-3)\n",
        "\n",
        "#Histograma:\n",
        "plt.xlabel(\"Mensaje enviado\")\n",
        "plt.ylabel(\"Frecuencia del mensaje\")\n",
        "\n",
        "plt.title('Fuente, H = {0,1,2,3}, distribución equiprobable, mensajes mapeados')\n",
        "\n",
        "plt.hist(muestras, bins = 10)\n",
        "\n",
        "print(\"Cantidad de unos: \" + str(cantidad1) + \"\\n\" + \"Cantidad de dos: \" + str(cantidad2)\n",
        "      + \"\\n\" + \"Cantidad de tres: \" + str(cantidad3) + \"\\n\" + \"Cantidad de cuatros: \" + str(cantidad4))"
      ],
      "execution_count": null,
      "outputs": [
        {
          "output_type": "stream",
          "text": [
            "Cantidad de unos: 239\n",
            "Cantidad de dos: 260\n",
            "Cantidad de tres: 260\n",
            "Cantidad de cuatros: 241\n"
          ],
          "name": "stdout"
        },
        {
          "output_type": "display_data",
          "data": {
            "image/png": "[encoded data removed]",
            "text/plain": [
              "<Figure size 432x288 with 1 Axes>"
            ]
          },
          "metadata": {
            "tags": []
          }
        }
      ]
    },
    {
      "cell_type": "markdown",
      "metadata": {
        "id": "TiuGgHpasyo4"
      },
      "source": [
        "Ejercicio d.2):"
      ]
    },
    {
      "cell_type": "code",
      "metadata": {
        "id": "J8t9i1uNs0Rj",
        "colab": {
          "base_uri": "https://localhost:8080/",
          "height": 90
        },
        "outputId": "3cbac041-3684-4303-e2ca-5d2e065e56cf"
      },
      "source": [
        "'''\n",
        "H = {1,2,3,4}\n",
        "\n",
        "Probabilidad: equiprobable.\n",
        "\n",
        "C = {(1,1),(1,-1),(-1,-1),(-1,1)}\n",
        "'''\n",
        "\n",
        "import random\n",
        "import matplotlib.pyplot as plt\n",
        "\n",
        "#Generación de mensajes:\n",
        "cantidadMuestras = 1000\n",
        "\n",
        "cantidad1,cantidad2,cantidad3,cantidad4 = (0,0,0,0)\n",
        "\n",
        "muestras = []\n",
        "\n",
        "mapeo = {1:(1,1),2:(1,-1),3:(-1,-1),4:(-1,1)}\n",
        "\n",
        "for i in range(cantidadMuestras):\n",
        "    muestras.append(mapeo.get(random.randint(1,4)))\n",
        "\n",
        "cantidad1 = muestras.count((1,1))\n",
        "cantidad2 = muestras.count((1,-1))\n",
        "cantidad3 = muestras.count((-1,-1))\n",
        "cantidad4 = muestras.count((-1,1))\n",
        "\n",
        "print(\"Cantidad de unos: \" + str(cantidad1) + \"\\n\" + \"Cantidad de dos: \" + str(cantidad2)\n",
        "      + \"\\n\" + \"Cantidad de tres: \" + str(cantidad3) + \"\\n\" + \"Cantidad de cuatros: \" + str(cantidad4))"
      ],
      "execution_count": null,
      "outputs": [
        {
          "output_type": "stream",
          "text": [
            "Cantidad de unos: 239\n",
            "Cantidad de dos: 240\n",
            "Cantidad de tres: 247\n",
            "Cantidad de cuatros: 274\n"
          ],
          "name": "stdout"
        }
      ]
    }
  ]
}