{
  "nbformat": 4,
  "nbformat_minor": 0,
  "metadata": {
    "colab": {
      "name": "BONINO_FRANCISCO_IGNACIO_MODELADO_DE_FUENTE,_TRANSMISOR_Y_CANAL.ipynb",
      "provenance": [],
      "collapsed_sections": []
    },
    "kernelspec": {
      "name": "python3",
      "display_name": "Python 3"
    }
  },
  "cells": [
    {
      "cell_type": "markdown",
      "metadata": {
        "id": "fPqlrdfzUv4M"
      },
      "source": [
        "#***Modelado de fuente, transmisor y canal***\n",
        "\n",
        "**Consignas:**\n",
        "\n",
        "1.a) Implementar en software una fuente de mensajes equiprobable de letras mayúsculas del alfabeto.\n",
        "\n",
        "1.b) Extender la fuente de mensaje a una de probabilidad parametrizable (no necesariamente equiprobable). Realizar histogramas y sacar conclusiones.\n",
        "\n",
        "2) *Modelado de canal de comunicación \"sin memoria\":* Argumente por qué es posible escribir la siguiente ecuación:\n",
        "$P_{Y_1,Y_2 | X_1,X_2}(y_1,y_2 | x_1,x_2) = \\prod_{i=0}^2 P_{Y_i | X_i}(y_i|x_i)$\n",
        "\n",
        "3) Implementar el modelo del canal del ejemplo 2.3.\n",
        "\n",
        "4.a) Modelar el transmisor para  $C \\in \\mathbb{Z}$ con la menor potencia. La fuente de mensaje es la del punto 1).\n",
        "\n",
        "4.b) Modelar un segundo transmisor para  $C \\in \\mathbb{Z}^{2}$\n",
        "\n",
        "#***Respuestas:***\n",
        "\n",
        "Ejercicio 1.a):"
      ]
    },
    {
      "cell_type": "code",
      "metadata": {
        "id": "sYBybl-4WytH",
        "colab": {
          "base_uri": "https://localhost:8080/",
          "height": 791
        },
        "outputId": "cc0ca7c7-11eb-493d-c8b0-d9e49e61c15b"
      },
      "source": [
        "'''\n",
        "Fuente emisora de mensajes equiprobables (1.a).\n",
        "\n",
        "H = {A, B, C, D, E, F, G, H, I, J, K, L, M, N, Ñ, O, P, Q, R, S, T, U, V, W, X, Y, Z}\n",
        "'''\n",
        "\n",
        "import random\n",
        "import matplotlib.pyplot as plt\n",
        "\n",
        "cantidadMuestras = 10000\n",
        "\n",
        "letters = ['A', 'B', 'C', 'D', 'E', 'F', 'G', 'H', 'I', 'J', 'K', 'L', 'M', 'N', 'Ñ', 'O', 'P', 'Q', 'R', 'S', 'T', 'U', 'V', 'W', 'X', 'Y', 'Z']\n",
        "\n",
        "muestras = random.choices(letters, weights = None, k = cantidadMuestras) #'weights = None' indica que la elección aleatoria será equiprobable.\n",
        "\n",
        "for letter in letters:\n",
        "  print(\"Cantidad de \" + letter + \":\" + str(muestras.count(letter)))\n",
        "\n",
        "#Histograma:\n",
        "plt.xlabel(\"Mensaje enviado\")\n",
        "plt.ylabel(\"Frecuencia del mensaje\")\n",
        "plt.title(\"Fuente, H = {ALFABETO}, distribución equiprobable\")\n",
        "plt.hist(muestras, bins = 27)\n",
        "plt.show()"
      ],
      "execution_count": null,
      "outputs": [
        {
          "output_type": "stream",
          "text": [
            "Cantidad de A:375\n",
            "Cantidad de B:368\n",
            "Cantidad de C:402\n",
            "Cantidad de D:387\n",
            "Cantidad de E:368\n",
            "Cantidad de F:355\n",
            "Cantidad de G:365\n",
            "Cantidad de H:393\n",
            "Cantidad de I:390\n",
            "Cantidad de J:351\n",
            "Cantidad de K:354\n",
            "Cantidad de L:395\n",
            "Cantidad de M:334\n",
            "Cantidad de N:407\n",
            "Cantidad de Ñ:372\n",
            "Cantidad de O:351\n",
            "Cantidad de P:380\n",
            "Cantidad de Q:349\n",
            "Cantidad de R:369\n",
            "Cantidad de S:365\n",
            "Cantidad de T:401\n",
            "Cantidad de U:351\n",
            "Cantidad de V:362\n",
            "Cantidad de W:361\n",
            "Cantidad de X:347\n",
            "Cantidad de Y:382\n",
            "Cantidad de Z:366\n"
          ],
          "name": "stdout"
        },
        {
          "output_type": "display_data",
          "data": {
            "image/png": "[encoded data removed]",
            "text/plain": [
              "<Figure size 432x288 with 1 Axes>"
            ]
          },
          "metadata": {
            "tags": [],
            "needs_background": "light"
          }
        }
      ]
    },
    {
      "cell_type": "markdown",
      "metadata": {
        "id": "ZeSiwQjcqx4t"
      },
      "source": [
        "Ejercicio 1.b):\n",
        "\n"
      ]
    },
    {
      "cell_type": "code",
      "metadata": {
        "id": "Y9fwGnWOrSoI",
        "colab": {
          "base_uri": "https://localhost:8080/",
          "height": 791
        },
        "outputId": "7db9f45a-6e30-4f25-899d-16692fe52171"
      },
      "source": [
        "'''\n",
        "Fuente emisora de mensajes no equiprobables (1.b).\n",
        "\n",
        "H = {A, B, C, D, E, F, G, H, I, J, K, L, M, N, Ñ, O, P, Q, R, S, T, U, V, W, X, Y, Z}\n",
        "'''\n",
        "\n",
        "import random\n",
        "import matplotlib.pyplot as plt\n",
        "\n",
        "cantidadMuestras = 10000\n",
        "\n",
        "letters = ['A', 'B', 'C', 'D', 'E', 'F', 'G', 'H', 'I', 'J', 'K', 'L', 'M', 'N', 'Ñ', 'O', 'P', 'Q', 'R', 'S', 'T', 'U', 'V', 'W', 'X', 'Y', 'Z']\n",
        "\n",
        "#Con este arreglo de probabilidades, las lestras A, B, C, D, E, F y G tienen un 10% de probabilidad de ser seleccionadas. El resto tiene un 3.5% de probabilidad de ser elegidas.\n",
        "probabilities = [0.1, 0.1, 0.1, 0.1, 0.1, 0.1, 0.1, 0.015, 0.015, 0.015, 0.015, 0.015, 0.015, 0.015, 0.015, 0.015, 0.015, 0.015, 0.015, 0.015, 0.015, 0.015, 0.015, 0.015, 0.015, 0.015, 0.015]\n",
        "\n",
        "muestras = random.choices(letters, weights = probabilities, k = cantidadMuestras)\n",
        "\n",
        "for letter in letters:\n",
        "  print(\"Cantidad de \" + letter + \":\" + str(muestras.count(letter)))\n",
        "\n",
        "#Histograma:\n",
        "plt.xlabel(\"Mensaje enviado\")\n",
        "plt.ylabel(\"Frecuencia del mensaje\")\n",
        "plt.title(\"Fuente, H = {ALFABETO}, distribución no equiprobable\")\n",
        "plt.hist(muestras, bins = 27, color = 'green')\n",
        "plt.show()\n",
        "\n",
        "#Si se suman la cantidad de veces que salen las letras desde la A hasta la G se obtiene un número muy próximo\n",
        "#al 70% de la cantidad total de muestras."
      ],
      "execution_count": null,
      "outputs": [
        {
          "output_type": "stream",
          "text": [
            "Cantidad de A:1000\n",
            "Cantidad de B:992\n",
            "Cantidad de C:1002\n",
            "Cantidad de D:991\n",
            "Cantidad de E:1044\n",
            "Cantidad de F:1029\n",
            "Cantidad de G:1004\n",
            "Cantidad de H:129\n",
            "Cantidad de I:151\n",
            "Cantidad de J:144\n",
            "Cantidad de K:142\n",
            "Cantidad de L:147\n",
            "Cantidad de M:171\n",
            "Cantidad de N:171\n",
            "Cantidad de Ñ:141\n",
            "Cantidad de O:158\n",
            "Cantidad de P:147\n",
            "Cantidad de Q:145\n",
            "Cantidad de R:151\n",
            "Cantidad de S:127\n",
            "Cantidad de T:140\n",
            "Cantidad de U:148\n",
            "Cantidad de V:142\n",
            "Cantidad de W:141\n",
            "Cantidad de X:146\n",
            "Cantidad de Y:133\n",
            "Cantidad de Z:164\n"
          ],
          "name": "stdout"
        },
        {
          "output_type": "display_data",
          "data": {
            "image/png": "[encoded data removed]",
            "text/plain": [
              "<Figure size 432x288 with 1 Axes>"
            ]
          },
          "metadata": {
            "tags": [],
            "needs_background": "light"
          }
        }
      ]
    },
    {
      "cell_type": "markdown",
      "metadata": {
        "id": "orsDaEyOtunJ"
      },
      "source": [
        ""
      ]
    },
    {
      "cell_type": "markdown",
      "metadata": {
        "id": "8kCwYEKCg0uk"
      },
      "source": [
        "Ejercicio 2):\\\n",
        "Basándonos en la teoría de la probabilidad y la estadística, el cálculo de la probabilidad condicional se calcula de la forma: $P(A|B) = \\frac{P(A \\bigcap B)}{P(B)}$. Si los eventos A y B son independientes entre sí, tenemos: $P(A \\bigcap B) = P(A)P(B)$. Esta expresión puede generalizarse para la intersección de *n* sucesos con la denominada *regla de la cadena de la probabilidad condicional*. En este caso, como tenemos que los mensajes son independientes entre sí, podemos reescribir la ecuación de probabilidad condicional para dos eventos de la forma en la que se muestra en la consigna del ejercicio, resultando así en el producto de las probabilidades condicionales de cada par.\n",
        "\n",
        "Ejercicio 3):"
      ]
    },
    {
      "cell_type": "code",
      "metadata": {
        "id": "5uYs2WHhl2X3",
        "colab": {
          "base_uri": "https://localhost:8080/",
          "height": 819
        },
        "outputId": "f715bfd6-1d37-4ec0-b7a0-3f32994a24cc"
      },
      "source": [
        "'''\n",
        "Implementación del canal del ejemplo 2.3).\n",
        "\n",
        "H = {0, 1}\n",
        "\n",
        "Probabilidad: P(0) = 0.5\n",
        "              P(1) = 0.5\n",
        "\n",
        "Z = AWGN (Additive White Gaussian Noise)\n",
        "\n",
        "Y = C + Z\n",
        "'''\n",
        "\n",
        "import random\n",
        "import numpy as np\n",
        "import matplotlib.pyplot as plt\n",
        "\n",
        "cantidadMuestras = 10000\n",
        "\n",
        "#Señal sin ruido:\n",
        "muestras = np.random.randint(0, 2, cantidadMuestras)\n",
        "plt.xlabel(\"Señal sin ruido\")\n",
        "plt.hist(muestras)\n",
        "plt.show()\n",
        "\n",
        "#Generación de AWGN:\n",
        "Z = np.random.normal(0, 0.1, cantidadMuestras)\n",
        "plt.xlabel(\"Ruido gaussiano a aplicar\")\n",
        "plt.hist(Z, bins = 1000, color = 'green')\n",
        "plt.show()\n",
        "\n",
        "#Adición de la señal y el ruido:\n",
        "Y = muestras + Z\n",
        "\n",
        "#Histograma:\n",
        "plt.xlabel(\"Señal con ruido\")\n",
        "plt.ylabel(\"Frecuencia del mensaje\")\n",
        "plt.title(\"Fuente, H = {0, 1, 2, 3}, distribución no equiprobable, adición de AWGN\")\n",
        "plt.hist(Y, bins = 15, color = 'orange')\n",
        "plt.show()"
      ],
      "execution_count": null,
      "outputs": [
        {
          "output_type": "display_data",
          "data": {
            "image/png": "[encoded data removed]",
            "text/plain": [
              "<Figure size 432x288 with 1 Axes>"
            ]
          },
          "metadata": {
            "tags": [],
            "needs_background": "light"
          }
        },
        {
          "output_type": "display_data",
          "data": {
            "image/png": "[encoded data removed]",
            "text/plain": [
              "<Figure size 432x288 with 1 Axes>"
            ]
          },
          "metadata": {
            "tags": [],
            "needs_background": "light"
          }
        },
        {
          "output_type": "display_data",
          "data": {
            "image/png": "[encoded data removed]",
            "text/plain": [
              "<Figure size 432x288 with 1 Axes>"
            ]
          },
          "metadata": {
            "tags": [],
            "needs_background": "light"
          }
        }
      ]
    },
    {
      "cell_type": "markdown",
      "metadata": {
        "id": "jcyILUkRpjMt"
      },
      "source": [
        "Ejercicio 4.a):"
      ]
    },
    {
      "cell_type": "code",
      "metadata": {
        "id": "oHiVZHyhpkya",
        "colab": {
          "base_uri": "https://localhost:8080/",
          "height": 513
        },
        "outputId": "7786074a-c465-4af4-a5ed-ee2b43e29521"
      },
      "source": [
        "import random\n",
        "import math\n",
        "import matplotlib.pyplot as plt\n",
        "\n",
        "cantidadMuestras = 10000\n",
        "\n",
        "#Primer mapeo en Z, de 13 a -13 sin usar el 0\n",
        "\n",
        "transmision1 = []\n",
        "\n",
        "letters = ['A', 'B', 'C', 'D', 'E', 'F', 'G', 'H', 'I', 'J', 'K', 'L', 'M', 'N', 'Ñ', 'O', 'P', 'Q', 'R', 'S', 'T', 'U', 'V', 'W', 'X', 'Y', 'Z']\n",
        "\n",
        "muestras = random.choices(letras, k = cantidadMuestras)\n",
        "\n",
        "transmisor1 = {'A':13, 'B':12, 'C':11, 'D':10, 'E':9, 'F':8, 'G':7, 'H':6, 'I':5, 'J':4, 'K':3, 'L':2, 'M':1, 'N':-1, 'O':-2, 'P':-3, 'Q':-4, 'R':-5, 'S':-6, 'T':-7, 'U':-8, 'V':-9, 'W':-10, 'X':-11, 'Y':-12, 'Z':-13}\n",
        "\n",
        "for i in range(len(mensajesEntrada)):\n",
        "  transmision1.append(transmisor1.get(muestras[i]))\n",
        "\n",
        "plt.hist(transmision1, bins = 27)\n",
        "plt.show()\n",
        "\n",
        "plt.hist(muestras, bins = 27, color = 'purple')\n",
        "plt.show()"
      ],
      "execution_count": 27,
      "outputs": [
        {
          "output_type": "display_data",
          "data": {
            "image/png": "[encoded data removed]",
            "text/plain": [
              "<Figure size 432x288 with 1 Axes>"
            ]
          },
          "metadata": {
            "tags": [],
            "needs_background": "light"
          }
        },
        {
          "output_type": "display_data",
          "data": {
            "image/png": "[encoded data removed]",
            "text/plain": [
              "<Figure size 432x288 with 1 Axes>"
            ]
          },
          "metadata": {
            "tags": [],
            "needs_background": "light"
          }
        }
      ]
    },
    {
      "cell_type": "markdown",
      "metadata": {
        "id": "TiuGgHpasyo4"
      },
      "source": [
        "Ejercicio 4.b):"
      ]
    },
    {
      "cell_type": "code",
      "metadata": {
        "id": "J8t9i1uNs0Rj",
        "colab": {
          "base_uri": "https://localhost:8080/",
          "height": 303
        },
        "outputId": "fa3892fe-e172-4926-c09b-3b8329f1bb58"
      },
      "source": [
        "#Segundo mapeo en Z^2\n",
        "\n",
        "letra = 0\n",
        "\n",
        "transmisor2 = {}\n",
        "\n",
        "transmision2 = []\n",
        "coordX = []\n",
        "coordY = []\n",
        "\n",
        "ejeX = [-2, -1, 1, 2]\n",
        "ejeY = [-3, -2, -1, 1, 2, 3, 4]\n",
        "\n",
        "for i in range(len(ejeX)):\n",
        "  for j in range(len(ejeY)):\n",
        "    if letra < 27:\n",
        "      transmisor2[letters[letra]] = [ejeX[i], ejeY[j]]\n",
        "      letra = letra + 1\n",
        "\n",
        "print(transmisor2) #Diccionario que indica el mapeo de la señal en Z^2\n",
        "\n",
        "for i in range(len(muestras)):\n",
        "  transmision2.append(transmisor2.get(muestras[i]))\n",
        "  coordX.append(transmisor2.get(muestras[i])[0])\n",
        "  coordY.append(transmisor2.get(muestras[i])[1])\n",
        "  plt.plot(transmisor2.get(muestras[i])[0], transmisor2.get(muestras[i])[1], marker = 'o', color = 'orange')\n",
        "\n",
        "plt.show()"
      ],
      "execution_count": 29,
      "outputs": [
        {
          "output_type": "stream",
          "text": [
            "{'A': [-2, -3], 'B': [-2, -2], 'C': [-2, -1], 'D': [-2, 1], 'E': [-2, 2], 'F': [-2, 3], 'G': [-2, 4], 'H': [-1, -3], 'I': [-1, -2], 'J': [-1, -1], 'K': [-1, 1], 'L': [-1, 2], 'M': [-1, 3], 'N': [-1, 4], 'Ñ': [1, -3], 'O': [1, -2], 'P': [1, -1], 'Q': [1, 1], 'R': [1, 2], 'S': [1, 3], 'T': [1, 4], 'U': [2, -3], 'V': [2, -2], 'W': [2, -1], 'X': [2, 1], 'Y': [2, 2], 'Z': [2, 3]}\n"
          ],
          "name": "stdout"
        },
        {
          "output_type": "display_data",
          "data": {
            "image/png": "[encoded data removed]",
            "text/plain": [
              "<Figure size 432x288 with 1 Axes>"
            ]
          },
          "metadata": {
            "tags": [],
            "needs_background": "light"
          }
        }
      ]
    }
  ]
}