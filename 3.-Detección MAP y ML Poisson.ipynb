{
  "nbformat": 4,
  "nbformat_minor": 0,
  "metadata": {
    "colab": {
      "name": "Comunicaciones digitales - Entrega02.ipynb",
      "provenance": []
    },
    "kernelspec": {
      "name": "python3",
      "display_name": "Python 3"
    }
  },
  "cells": [
    {
      "cell_type": "markdown",
      "metadata": {
        "id": "Euoz8vNvRvDc"
      },
      "source": [
        "#***Detección MAP y ML para canal con distribución de Poisson (fibra óptica)***\n",
        "\n",
        "**Consignas:**\n",
        "\n",
        "1) Grafique en una misma figura las probabilidades condicionales P(Y|H) para H = 0 y H = 1 del ejemplo 2.4 del libro. Elija parámetros para la función de densidad de Poisson y saque conclusiones.\n",
        "\n",
        "2) Genere una distribución de Poisson y realice su histograma.\n",
        "\n",
        "3) Determine las regiones de decisión MAP y ML. Para el caso MAP, proponga una distribución de probabilidad de las hipótesis.\n",
        "\n",
        "4) Estime estadísticamente la probabilidad error y realice una gráfica de probabilidad de error vs SNR[DB].\n",
        "\n",
        "###***Enunciado del ejemplo 2.4:***\n",
        "\n",
        "Como un ejemplo típico de un problema de test de hipótesis, consideremos el problema de comunicar un bit de información a través de fibra óptica.\\\n",
        "El bit a transmitir está modelado por la variable H ∈ {0, 1}, con PH(0) = 1/2.\\\n",
        "Si H = 1, encendemos un diodo emisor de luz (LED) y su luz es llevada a lo largo de la fibra óptica hasta el fotodetector.\\\n",
        "La salida del fotodetector es el número de fotones Y ∈ N que detecta. El problema es decidir si H = 0 (el LED está apagado) o si H = 1 (el LED está encendido).\\\n",
        "Nuestra decisión sólo puede basarse en la información que tengamos priori sobre el modelo y sobre la observación Y = y.\\\n",
        "Lo que hace el problema interesante, es que es imposible determinar H partiendo desde Y con certeza. Incluso cuando el LED está apagado, el detector es propenso a detectar algunos fotones (por ejemplo, por la \"luz del ambiente\").\\\n",
        "Podemos asumir que Y tiene distribución de Poisson con intensidad λ, la cual depende de si el LED está prendido o apagado.\\\n",
        "Matemáticamente, la situación es como sigue:\n",
        "\n",
        "****Cuando H = 0:*** $Y:  P_{Y|H}(y|0) = \\frac{λ_0^y e^{-λ_0}}{y!}$\\\n",
        "****Cuando H = 1:*** $Y:  P_{Y|H}(y|1) = \\frac{λ_1^y e^{-λ_1}}{y!}$\\\n",
        "\n",
        "donde $0 \\leq λ_0 < λ_1$.\\\n",
        "\n",
        "Leemos lo de arriba de la forma: \"*Cuando H = 0, la observable **Y** tiene distribución de Poisson con intensidad $λ_0$. Cuando H = 1, **Y** tiene distribución de Poisson con intensidad $λ_1$.*\"\\\n",
        "Una vez más, el problema de elegir H en base a la observable **Y** es un problema de test de hipótesis estándar.\n",
        "##***Respuestas:***\n",
        "\n",
        "1) y 2):"
      ]
    },
    {
      "cell_type": "code",
      "metadata": {
        "id": "o6g0hTXvTJpW",
        "colab": {
          "base_uri": "https://localhost:8080/",
          "height": 265
        },
        "outputId": "47753a8b-5d93-4e97-93ab-c124fd6e7218"
      },
      "source": [
        "import numpy as np\n",
        "import matplotlib.pyplot as plt\n",
        "\n",
        "cantidadMuestras = 10000\n",
        "\n",
        "H = [0, 1]\n",
        "\n",
        "P = [0.5, 0.5]\n",
        "\n",
        "Lambda = [3, 20]\n",
        "\n",
        "mensajeEnviado = np.random.choice(H, size = cantidadMuestras, p = P)\n",
        "\n",
        "mensajeConRuido = []\n",
        "\n",
        "for i in range(cantidadMuestras):\n",
        "\tif (mensajeEnviado[i] == 0): mensajeConRuido.append(np.random.poisson(Lambda[0]))\n",
        "\telse: mensajeConRuido.append(np.random.poisson(Lambda[1]))\n",
        "\n",
        "plt.hist(mensajeConRuido, bins = 38)\n",
        "plt.show()"
      ],
      "execution_count": 11,
      "outputs": [
        {
          "output_type": "display_data",
          "data": {
            "image/png": "[encoded data removed]",
            "text/plain": [
              "<Figure size 432x288 with 1 Axes>"
            ]
          },
          "metadata": {
            "tags": [],
            "needs_background": "light"
          }
        }
      ]
    },
    {
      "cell_type": "markdown",
      "metadata": {
        "id": "y5Zx4C18gFRG"
      },
      "source": [
        "3): $\\theta = \\frac{\\lambda_1 - \\lambda_0}{ln(\\frac{\\lambda_1}{\\lambda_0})}$\n",
        "\n"
      ]
    },
    {
      "cell_type": "code",
      "metadata": {
        "id": "sJ-ENvjjdwfh",
        "colab": {
          "base_uri": "https://localhost:8080/",
          "height": 265
        },
        "outputId": "c89dfca3-f091-4aab-8ca9-302d80608f9a"
      },
      "source": [
        "threshold = (Lambda[1] - Lambda[0]) / np.log(Lambda[1] / Lambda[0])\n",
        "\n",
        "mensajeDecodificado = []\n",
        "\n",
        "for i in range(cantidadMuestras):\n",
        "\tif (mensajeConRuido[i] > threshold): mensajeDecodificado.append(1)\n",
        "\telse: mensajeDecodificado.append(0)\n",
        "\n",
        "plt.hist(mensajeDecodificado)\n",
        "plt.show()"
      ],
      "execution_count": 4,
      "outputs": [
        {
          "output_type": "display_data",
          "data": {
            "image/png": "[encoded data removed]",
            "text/plain": [
              "<Figure size 432x288 with 1 Axes>"
            ]
          },
          "metadata": {
            "tags": [],
            "needs_background": "light"
          }
        }
      ]
    },
    {
      "cell_type": "markdown",
      "metadata": {
        "id": "mjmFWFeCk9uW"
      },
      "source": [
        "4)"
      ]
    },
    {
      "cell_type": "code",
      "metadata": {
        "id": "xrCVaCe5fCVQ",
        "colab": {
          "base_uri": "https://localhost:8080/"
        },
        "outputId": "f0c77d03-23db-4a7d-caaa-6aa578d0c1dc"
      },
      "source": [
        "cerosEnviados = list(mensajeEnviado).count(0)\n",
        "cerosRecibidos = list(mensajeDecodificado).count(0)\n",
        "\n",
        "unosEnviados = list(mensajeEnviado).count(1)\n",
        "unosRecibidos = list(mensajeDecodificado).count(1)\n",
        "\n",
        "error = (abs(cerosEnviados - cerosRecibidos) + abs(unosEnviados - unosRecibidos)) / cantidadMuestras\n",
        "\n",
        "print(\"Cantidad de '0' enviados: \", cerosEnviados)\n",
        "print(\"Cantidad de '1' enviados: \", unosEnviados)\n",
        "print(\"Cantidad de '0' recibidos: \", cerosRecibidos)\n",
        "print(\"Cantidad de '1' recibidos: \", unosRecibidos)\n",
        "print(\"Error estadístico: \", error * 100, \"%\")"
      ],
      "execution_count": 14,
      "outputs": [
        {
          "output_type": "stream",
          "text": [
            "Cantidad de '0' enviados:  4967\n",
            "Cantidad de '1' enviados:  5033\n",
            "Cantidad de '0' recibidos:  5005\n",
            "Cantidad de '1' recibidos:  4995\n",
            "Error estadístico:  0.76 %\n"
          ],
          "name": "stdout"
        }
      ]
    }
  ]
}